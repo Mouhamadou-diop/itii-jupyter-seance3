{
 "cells": [
  {
   "cell_type": "code",
   "execution_count": 10,
   "metadata": {},
   "outputs": [
    {
     "name": "stdout",
     "output_type": "stream",
     "text": [
      "0.5\n"
     ]
    }
   ],
   "source": [
    "def f(x):\n",
    "    return x**3+2*x-2\n",
    "def racine(N):\n",
    "    import numpy as np\n",
    "    inter = [0,0.5,1]\n",
    "    c=0\n",
    "    while c < N:\n",
    "        if f(inter[0])*f(inter[1])<0:\n",
    "            inter =[inter[0],(interv[0]+inter[0])/2,inter[1]]\n",
    "        else:\n",
    "            inter =[inter[1],(inter[1]+inter[2])/2,inter[2]]\n",
    "        c=c+1\n",
    "    return inter[1]\n",
    "print(racine(0))"
   ]
  },
  {
   "cell_type": "code",
   "execution_count": 21,
   "metadata": {},
   "outputs": [
    {
     "name": "stdout",
     "output_type": "stream",
     "text": [
      "voici un Carré magique d'ordre 3:\n",
      " 4   9   2 = 15\n",
      " 3   5   7 = 15\n",
      " 8   1   6 = 15\n",
      "==  ==  ==\n",
      "15  15  15\n"
     ]
    }
   ],
   "source": [
    "#Création et affichage d'un carré magique.\n",
    "n = 3                                   \n",
    "\n",
    "assert n % 2 == 1,f\"L'ordre {n} n'est pas impair.\"\n",
    "\n",
    "array = [[0 for j in range(n)] for i in range(n)]\n",
    "\n",
    "i, j = n, (n + 1) // 2        \n",
    "array[i - 1][j - 1] = 1      \n",
    "\n",
    "for k in range(2, n**2 + 1):\n",
    "    i2 = (i + 1) % n\n",
    "    j2 = (j + 1) % n\n",
    "    if array[i2 - 1][j2 - 1] == 0:  \n",
    "        i, j = i2, j2\n",
    "    else:\n",
    "        i = (i - 1) % n\n",
    "    array[i - 1][j - 1] = k       \n",
    "\n",
    "print(f\"voici un Carré magique d'ordre {n}:\")\n",
    "for row in array:\n",
    "    print('  '.join(f'{k:2d}' for k in row), '=', sum(row))\n",
    "print('  '.join('==' for k in row))\n",
    "print('  '.join(str(sum(array[i][j] for i in range(n))) for j in range(n)))"
   ]
  },
  {
   "cell_type": "code",
   "execution_count": null,
   "metadata": {},
   "outputs": [],
   "source": []
  },
  {
   "cell_type": "code",
   "execution_count": null,
   "metadata": {},
   "outputs": [],
   "source": []
  }
 ],
 "metadata": {
  "kernelspec": {
   "display_name": "Python 3",
   "language": "python",
   "name": "python3"
  },
  "language_info": {
   "codemirror_mode": {
    "name": "ipython",
    "version": 3
   },
   "file_extension": ".py",
   "mimetype": "text/x-python",
   "name": "python",
   "nbconvert_exporter": "python",
   "pygments_lexer": "ipython3",
   "version": "3.7.6"
  }
 },
 "nbformat": 4,
 "nbformat_minor": 4
}
